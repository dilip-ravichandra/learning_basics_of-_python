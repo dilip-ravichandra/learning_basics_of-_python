{
 "cells": [
  {
   "cell_type": "markdown",
   "id": "dddb9da8-4e09-4aeb-8997-35ae5d9b38ef",
   "metadata": {},
   "source": [
    "### WELCOME TO PYTHON-SHIFT+ENTER"
   ]
  },
  {
   "cell_type": "markdown",
   "id": "9866492d-d486-4b79-a5e2-227d04446b8b",
   "metadata": {},
   "source": [
    "# What is Python ?\n",
    "### python is a popular programking lang. used for web development,software development,maths,scriptings"
   ]
  },
  {
   "cell_type": "raw",
   "id": "bd92bd61-778c-48c3-9b22-a273fce04690",
   "metadata": {},
   "source": [
    "comments can be used to explain the code\n",
    "\n",
    "1.single line comment-#hello\n",
    "    \n",
    "2. multi line comment-\"\"\"hello eryone\n",
    "good evening\"\"\""
   ]
  },
  {
   "cell_type": "raw",
   "id": "fb07fb00-0768-461d-b9e9-8baea3da447d",
   "metadata": {},
   "source": [
    "Variables:\n",
    "variables are container for storing data values."
   ]
  },
  {
   "cell_type": "code",
   "execution_count": 2,
   "id": "c098e7f4-4de4-41b4-9502-84cf83e80c12",
   "metadata": {},
   "outputs": [],
   "source": [
    "x=5 #integer variable\n",
    "y=\"Hello\" #string variable"
   ]
  },
  {
   "cell_type": "code",
   "execution_count": 4,
   "id": "3ada19cc-e189-4f5b-b4d3-4609ef9799f3",
   "metadata": {},
   "outputs": [
    {
     "name": "stdout",
     "output_type": "stream",
     "text": [
      "<class 'int'>\n"
     ]
    }
   ],
   "source": [
    "print(type(x)) \n",
    "#print is used for priniting things on screen in python"
   ]
  },
  {
   "cell_type": "code",
   "execution_count": 13,
   "id": "47b745d1-2ef3-43fa-91ff-1d593f947656",
   "metadata": {},
   "outputs": [
    {
     "name": "stdout",
     "output_type": "stream",
     "text": [
      "3 3.0 10\n"
     ]
    }
   ],
   "source": [
    "x=int(3)\n",
    "y=float(3)\n",
    "z=str(10)\n",
    "print(x,y,z)"
   ]
  },
  {
   "cell_type": "code",
   "execution_count": 11,
   "id": "0d67dade-7362-49dc-927c-25d453876332",
   "metadata": {},
   "outputs": [
    {
     "name": "stdout",
     "output_type": "stream",
     "text": [
      "<class 'str'>\n"
     ]
    }
   ],
   "source": [
    "print(type(z))"
   ]
  },
  {
   "cell_type": "markdown",
   "id": "c2e4f145-2b2c-4c9a-bce5-c666850df706",
   "metadata": {},
   "source": [
    "# Variable Constraints"
   ]
  },
  {
   "cell_type": "raw",
   "id": "7d367795-008f-4f1c-a776-c603f4849575",
   "metadata": {},
   "source": [
    "a variable can have a short name like x or y or more descriptive name like age, total,sum.\n",
    "\n",
    "1.a variable name must start with a letter or the underscore character\n",
    "2.a variable name cannot start with a number\n",
    "3.variable name can only contain alpha-numeric characters and underscore(A-z,0-9 and _)\n",
    "4.variable names are case sensitive(age,Age and AGE are different variable)\n",
    "5.variables cannot be a keyword"
   ]
  },
  {
   "cell_type": "code",
   "execution_count": 14,
   "id": "3233d814-5917-48bb-b7ab-c9402bce50ce",
   "metadata": {},
   "outputs": [],
   "source": [
    "#multi words variables names\n",
    "#camelcase-each word,except the first start with a captialletter\n",
    "\n",
    "myVariableNameIs='Navya'\n"
   ]
  },
  {
   "cell_type": "code",
   "execution_count": 15,
   "id": "ed61a495-9366-4e72-89e5-76aa6b752aaf",
   "metadata": {},
   "outputs": [],
   "source": [
    "#pascal case-each word starts with captial letter\n",
    "\n",
    "MyVariableIs='hello'\n"
   ]
  },
  {
   "cell_type": "code",
   "execution_count": null,
   "id": "10183c99-e638-4c08-a667-3a59df5d6bb1",
   "metadata": {},
   "outputs": [],
   "source": [
    "#Snake case-each word is separated by an underscore character\n",
    "\n",
    "my_variable_name='Python'\n"
   ]
  },
  {
   "cell_type": "code",
   "execution_count": 16,
   "id": "60db6d9b-a478-43a4-a19c-ce59e290cac1",
   "metadata": {},
   "outputs": [
    {
     "name": "stdout",
     "output_type": "stream",
     "text": [
      "Orange\n",
      "Mango\n",
      "Kiwi\n"
     ]
    }
   ],
   "source": [
    "#many values to multiple variables\n",
    "\n",
    "x,y,z='Orange','Mango','Kiwi'\n",
    "print(x)\n",
    "print(y)\n",
    "print(z)"
   ]
  },
  {
   "cell_type": "code",
   "execution_count": 18,
   "id": "b38e6cf7-7d02-475d-a70a-71545eb9cfe8",
   "metadata": {},
   "outputs": [
    {
     "name": "stdout",
     "output_type": "stream",
     "text": [
      "Apple Apple Apple\n"
     ]
    }
   ],
   "source": [
    "#one value to multiple variables\n",
    "x=y=z='Apple'\n",
    "print(x,y,z)"
   ]
  },
  {
   "cell_type": "code",
   "execution_count": 23,
   "id": "4eae08d8-4ae9-4de3-943b-829ea99460d9",
   "metadata": {},
   "outputs": [
    {
     "name": "stdout",
     "output_type": "stream",
     "text": [
      "apple\n",
      "['mango', 'kiwi', 'pineapple']\n",
      "orange\n"
     ]
    }
   ],
   "source": [
    "#unpack of a collection\n",
    "fruits=['apple','mango','kiwi','pineapple','orange']\n",
    "a,*b,c=fruits\n",
    "print(a)\n",
    "print(b)\n",
    "print(c)"
   ]
  },
  {
   "cell_type": "code",
   "execution_count": 25,
   "id": "2cf21b5b-864d-4a60-9c20-764d4144dc8c",
   "metadata": {},
   "outputs": [
    {
     "name": "stdout",
     "output_type": "stream",
     "text": [
      "I Like Python\n"
     ]
    }
   ],
   "source": [
    "#Global Variables-variables that are created outside of a function are known has global variables\n",
    "\n",
    "x='Python'\n",
    "\n",
    "def myfunc():\n",
    "    print(\"I Like \"+x)\n",
    "\n",
    "myfunc()"
   ]
  },
  {
   "cell_type": "code",
   "execution_count": 33,
   "id": "6dfeb425-1ae5-45a8-bb8a-6e9d319c3994",
   "metadata": {},
   "outputs": [
    {
     "name": "stdout",
     "output_type": "stream",
     "text": [
      "python is osm\n"
     ]
    }
   ],
   "source": [
    "\"\"\"Global keyword - when you create a variable inside a function\n",
    "that variable is local and can only be used inside that function.\n",
    "to create global variable inside a function you can use the global keyword\n",
    "\"\"\"\n",
    "\n",
    "x='fun'\n",
    "def func():\n",
    "    global x\n",
    "    x=\"osm\"\n",
    "func()\n",
    "print(\"python is \"+x)"
   ]
  },
  {
   "cell_type": "markdown",
   "id": "42e1e7fd-9579-40de-99fb-cc929c8d59e4",
   "metadata": {},
   "source": [
    "# Built in Data Types-Python"
   ]
  },
  {
   "cell_type": "raw",
   "id": "9cc603cf-8266-4fec-b185-f5f5b7e1e25c",
   "metadata": {},
   "source": [
    "1. text type - str\n",
    "2. numeric type- int, float,complex\n",
    "3.sequence type-list, tuple, range\n",
    "4.mapping type-dict\n",
    "5.set type-set,frozenset\n",
    "6.boolean type-bool\n",
    "7.binary type-bytes\n",
    "8.none type-NoneType"
   ]
  }
 ],
 "metadata": {
  "kernelspec": {
   "display_name": "Python [conda env:base] *",
   "language": "python",
   "name": "conda-base-py"
  },
  "language_info": {
   "codemirror_mode": {
    "name": "ipython",
    "version": 3
   },
   "file_extension": ".py",
   "mimetype": "text/x-python",
   "name": "python",
   "nbconvert_exporter": "python",
   "pygments_lexer": "ipython3",
   "version": "3.12.4"
  }
 },
 "nbformat": 4,
 "nbformat_minor": 5
}
