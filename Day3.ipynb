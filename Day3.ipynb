{
  "nbformat": 4,
  "nbformat_minor": 0,
  "metadata": {
    "colab": {
      "provenance": []
    },
    "kernelspec": {
      "name": "python3",
      "display_name": "Python 3"
    },
    "language_info": {
      "name": "python"
    }
  },
  "cells": [
    {
      "cell_type": "code",
      "execution_count": 2,
      "metadata": {
        "colab": {
          "base_uri": "https://localhost:8080/"
        },
        "id": "XdkkQo_U8Oa3",
        "outputId": "9a050948-775e-4027-fe5b-cc7a282efb11"
      },
      "outputs": [
        {
          "output_type": "stream",
          "name": "stdout",
          "text": [
            "Navya Achar\n"
          ]
        }
      ],
      "source": [
        "#String Concatenation-combine two strings you can use + operator\n",
        "\n",
        "\n",
        "a='Navya'\n",
        "b='Achar'\n",
        "c=a+\" \"+b\n",
        "print(c)"
      ]
    },
    {
      "cell_type": "markdown",
      "source": [
        "**Format of Strings**\n",
        "\n",
        "F string is preferred for fomating of a string.\n",
        "to specify a string as an f-string simply put f in front of string literal and add curly braces as placeholder for variables and other operations."
      ],
      "metadata": {
        "id": "Vt5_A68Q9Hp_"
      }
    },
    {
      "cell_type": "code",
      "source": [
        "age=30\n",
        "txt=\"My name is Rahul, i am \"+age\n",
        "print(txt)"
      ],
      "metadata": {
        "colab": {
          "base_uri": "https://localhost:8080/",
          "height": 176
        },
        "id": "iZXlmF7i9NS9",
        "outputId": "318a4f61-c73b-48a4-f469-4843ef2acd1a"
      },
      "execution_count": 3,
      "outputs": [
        {
          "output_type": "error",
          "ename": "TypeError",
          "evalue": "can only concatenate str (not \"int\") to str",
          "traceback": [
            "\u001b[0;31m---------------------------------------------------------------------------\u001b[0m",
            "\u001b[0;31mTypeError\u001b[0m                                 Traceback (most recent call last)",
            "\u001b[0;32m<ipython-input-3-4226308927>\u001b[0m in \u001b[0;36m<cell line: 0>\u001b[0;34m()\u001b[0m\n\u001b[1;32m      1\u001b[0m \u001b[0mage\u001b[0m\u001b[0;34m=\u001b[0m\u001b[0;36m30\u001b[0m\u001b[0;34m\u001b[0m\u001b[0;34m\u001b[0m\u001b[0m\n\u001b[0;32m----> 2\u001b[0;31m \u001b[0mtxt\u001b[0m\u001b[0;34m=\u001b[0m\u001b[0;34m\"My name is Rahul, i am \"\u001b[0m\u001b[0;34m+\u001b[0m\u001b[0mage\u001b[0m\u001b[0;34m\u001b[0m\u001b[0;34m\u001b[0m\u001b[0m\n\u001b[0m\u001b[1;32m      3\u001b[0m \u001b[0mprint\u001b[0m\u001b[0;34m(\u001b[0m\u001b[0mtxt\u001b[0m\u001b[0;34m)\u001b[0m\u001b[0;34m\u001b[0m\u001b[0;34m\u001b[0m\u001b[0m\n",
            "\u001b[0;31mTypeError\u001b[0m: can only concatenate str (not \"int\") to str"
          ]
        }
      ]
    },
    {
      "cell_type": "code",
      "source": [
        "age=25\n",
        "txt=f\"My name is Navya, i am {age}\"\n",
        "print(txt)"
      ],
      "metadata": {
        "colab": {
          "base_uri": "https://localhost:8080/"
        },
        "id": "G-8HnA3X9aYh",
        "outputId": "29107773-f959-4fe5-9ee8-73b6e37a1e28"
      },
      "execution_count": 4,
      "outputs": [
        {
          "output_type": "stream",
          "name": "stdout",
          "text": [
            "My name is Navya, i am 25\n"
          ]
        }
      ]
    },
    {
      "cell_type": "code",
      "source": [
        "price=40\n",
        "buy=f\"the price is {price} rupees\"\n",
        "print(buy)"
      ],
      "metadata": {
        "colab": {
          "base_uri": "https://localhost:8080/"
        },
        "id": "ydQHW65p-FDj",
        "outputId": "1d66408d-df5e-4c26-af29-e96fd7ee2897"
      },
      "execution_count": 5,
      "outputs": [
        {
          "output_type": "stream",
          "name": "stdout",
          "text": [
            "the price is 40 rupees\n"
          ]
        }
      ]
    },
    {
      "cell_type": "code",
      "source": [
        "price=40\n",
        "buy=f\"the price is {price:.2f} rupees\"\n",
        "print(buy)"
      ],
      "metadata": {
        "colab": {
          "base_uri": "https://localhost:8080/"
        },
        "id": "ErcL1lGf-UkZ",
        "outputId": "a5986cf2-a716-4f5a-daf2-920131348310"
      },
      "execution_count": 6,
      "outputs": [
        {
          "output_type": "stream",
          "name": "stdout",
          "text": [
            "the price is 40.00 rupees\n"
          ]
        }
      ]
    },
    {
      "cell_type": "code",
      "source": [
        "price=40\n",
        "buy=f\"the price is {price*0.15} rupees\"\n",
        "print(buy)"
      ],
      "metadata": {
        "colab": {
          "base_uri": "https://localhost:8080/"
        },
        "id": "jujQdUuh-dNJ",
        "outputId": "355c6295-76f2-4691-cd2f-d9618edb8b29"
      },
      "execution_count": 8,
      "outputs": [
        {
          "output_type": "stream",
          "name": "stdout",
          "text": [
            "the price is 6.0 rupees\n"
          ]
        }
      ]
    },
    {
      "cell_type": "code",
      "source": [
        "\n",
        "buy=f\"the price is {40+0.18} rupees\"\n",
        "print(buy)"
      ],
      "metadata": {
        "colab": {
          "base_uri": "https://localhost:8080/"
        },
        "id": "pdeL3ATa-hXy",
        "outputId": "167f92bb-e867-4aba-fcbb-c5aee240f062"
      },
      "execution_count": 9,
      "outputs": [
        {
          "output_type": "stream",
          "name": "stdout",
          "text": [
            "the price is 40.18 rupees\n"
          ]
        }
      ]
    },
    {
      "cell_type": "code",
      "source": [
        "a=\"{data}\"\n",
        "print(f\"the sentence is {a}\")"
      ],
      "metadata": {
        "colab": {
          "base_uri": "https://localhost:8080/"
        },
        "id": "qTsbu-Q0-qJD",
        "outputId": "c8cbee27-a5f7-4888-c925-1f9e3fc1df26"
      },
      "execution_count": 10,
      "outputs": [
        {
          "output_type": "stream",
          "name": "stdout",
          "text": [
            "the sentence is {data}\n"
          ]
        }
      ]
    },
    {
      "cell_type": "markdown",
      "source": [
        "**Operators in Python**\n",
        "1. Arithematic Operator  + - * / % ** //(ex:10.5=>10)\n",
        "2. Assignment Operator   = += -= *= /= %= //= **= &= |= ^= >>= <<= :=\n",
        "3. Comparison Operator   == != > < >= <=\n",
        "4. Logical Operator      and, or, not\n",
        "5. Identity Operator     is, is not\n",
        "6. Membership Operator   in, not in\n",
        "7. Bitwise Operator      & | ^ ~ << >>"
      ],
      "metadata": {
        "id": "XFEXF4qh_S9x"
      }
    },
    {
      "cell_type": "markdown",
      "source": [
        "**LISTS**\n",
        "Lists are used to store multiple items in a single variable.Enclosed with [] Square Brackets.\n",
        "\n",
        "List items are ordered, changeable, and allows duplicate values.\n"
      ],
      "metadata": {
        "id": "z8d-_50BAtq1"
      }
    },
    {
      "cell_type": "code",
      "source": [
        "fruits=['apple','banana','kiwi','apple']\n",
        "print(fruits)"
      ],
      "metadata": {
        "colab": {
          "base_uri": "https://localhost:8080/"
        },
        "id": "7Epgx9ENBIcD",
        "outputId": "dbdd7891-45cb-410a-e987-fc7e69716c9c"
      },
      "execution_count": 11,
      "outputs": [
        {
          "output_type": "stream",
          "name": "stdout",
          "text": [
            "['apple', 'banana', 'kiwi', 'apple']\n"
          ]
        }
      ]
    },
    {
      "cell_type": "code",
      "source": [
        "print(len(fruits))"
      ],
      "metadata": {
        "colab": {
          "base_uri": "https://localhost:8080/"
        },
        "id": "VEakJycVBTmN",
        "outputId": "bf6cc559-734d-4122-d93e-e04e9a00a51b"
      },
      "execution_count": 12,
      "outputs": [
        {
          "output_type": "stream",
          "name": "stdout",
          "text": [
            "4\n"
          ]
        }
      ]
    },
    {
      "cell_type": "code",
      "source": [
        "b=[1,5.6,8,3.0]\n",
        "c=[True, False, True]\n",
        "print(b, c)"
      ],
      "metadata": {
        "colab": {
          "base_uri": "https://localhost:8080/"
        },
        "id": "H_5G86k7BcxM",
        "outputId": "cd338923-c71d-4ab6-8d19-ca7d7ddb159e"
      },
      "execution_count": 13,
      "outputs": [
        {
          "output_type": "stream",
          "name": "stdout",
          "text": [
            "[1, 5.6, 8, 3.0] [True, False, True]\n"
          ]
        }
      ]
    },
    {
      "cell_type": "code",
      "source": [
        "list=['apple',True,0,'banana',10.11]\n",
        "print(type(list))\n",
        "print()\n",
        "print(list)"
      ],
      "metadata": {
        "colab": {
          "base_uri": "https://localhost:8080/"
        },
        "id": "3Ng6AUJwBt-1",
        "outputId": "dd5dc039-d81d-4fe3-a867-8dd99a9cc895"
      },
      "execution_count": 15,
      "outputs": [
        {
          "output_type": "stream",
          "name": "stdout",
          "text": [
            "<class 'list'>\n",
            "\n",
            "['apple', True, 0, 'banana', 10.11]\n"
          ]
        }
      ]
    },
    {
      "cell_type": "code",
      "source": [
        "#List constructor- is used to create a new list\n",
        "a=list(('apple','Navya',10))\n",
        "print(a)\n",
        "print(type(a))\n"
      ],
      "metadata": {
        "id": "HYIQNJdbB4_a"
      },
      "execution_count": 17,
      "outputs": []
    },
    {
      "cell_type": "code",
      "source": [
        "#Accessing List Items-Index number\n",
        "\n",
        "list=['apple','Mango','Banana','Kiwi','Orange']\n"
      ],
      "metadata": {
        "id": "fykWWKVNCaOf"
      },
      "execution_count": 18,
      "outputs": []
    },
    {
      "cell_type": "code",
      "source": [
        "print(list[2])"
      ],
      "metadata": {
        "colab": {
          "base_uri": "https://localhost:8080/"
        },
        "id": "YQkWPhg4DF_O",
        "outputId": "5e5d2446-3521-4c3c-b7e5-d5c403c9c989"
      },
      "execution_count": 19,
      "outputs": [
        {
          "output_type": "stream",
          "name": "stdout",
          "text": [
            "Banana\n"
          ]
        }
      ]
    },
    {
      "cell_type": "code",
      "source": [
        "print(list[-4])"
      ],
      "metadata": {
        "colab": {
          "base_uri": "https://localhost:8080/"
        },
        "id": "9gJrygtGDJRr",
        "outputId": "46c81e49-bb44-4c0d-c85e-02e159a822b1"
      },
      "execution_count": 21,
      "outputs": [
        {
          "output_type": "stream",
          "name": "stdout",
          "text": [
            "Mango\n"
          ]
        }
      ]
    },
    {
      "cell_type": "code",
      "source": [
        "#by giving range of index-slicing\n",
        "print(list[2:4])"
      ],
      "metadata": {
        "colab": {
          "base_uri": "https://localhost:8080/"
        },
        "id": "8tuw2QTlDNLw",
        "outputId": "23eeec29-c7ee-4079-b178-71c0ea8a5562"
      },
      "execution_count": 22,
      "outputs": [
        {
          "output_type": "stream",
          "name": "stdout",
          "text": [
            "['Banana', 'Kiwi']\n"
          ]
        }
      ]
    },
    {
      "cell_type": "code",
      "source": [
        "if 'pine' not in list:\n",
        "  print('yes')\n",
        "else:\n",
        "  print('No')"
      ],
      "metadata": {
        "colab": {
          "base_uri": "https://localhost:8080/"
        },
        "id": "gSzVNUN-DV8d",
        "outputId": "959ff0a4-91a4-4286-d2ee-5766c5d42244"
      },
      "execution_count": 28,
      "outputs": [
        {
          "output_type": "stream",
          "name": "stdout",
          "text": [
            "yes\n"
          ]
        }
      ]
    },
    {
      "cell_type": "code",
      "source": [
        "#Change list item\n",
        "\n",
        "list[1]='Strawberry'\n",
        "print(list)"
      ],
      "metadata": {
        "colab": {
          "base_uri": "https://localhost:8080/"
        },
        "id": "x3rZdaisDlGK",
        "outputId": "d5ce07a7-7a52-43a2-bf2e-e4182ec6f6f7"
      },
      "execution_count": 29,
      "outputs": [
        {
          "output_type": "stream",
          "name": "stdout",
          "text": [
            "['apple', 'Strawberry', 'Banana', 'Kiwi', 'Orange']\n"
          ]
        }
      ]
    },
    {
      "cell_type": "code",
      "source": [
        "list[2:3]=['greenapple','Gauva']\n",
        "print(list)"
      ],
      "metadata": {
        "colab": {
          "base_uri": "https://localhost:8080/"
        },
        "id": "Yn-M65AUED_V",
        "outputId": "e00a6b3c-6a4b-41e4-ddc7-000e2fbfe06f"
      },
      "execution_count": 30,
      "outputs": [
        {
          "output_type": "stream",
          "name": "stdout",
          "text": [
            "['apple', 'Strawberry', 'greenapple', 'Gauva', 'Kiwi', 'Orange']\n"
          ]
        }
      ]
    },
    {
      "cell_type": "code",
      "source": [
        "list[2:3]=['grapes']\n",
        "print(list)"
      ],
      "metadata": {
        "colab": {
          "base_uri": "https://localhost:8080/"
        },
        "id": "rZHqFg6eERhF",
        "outputId": "39fa260f-cae2-4647-e1f6-320317455967"
      },
      "execution_count": 31,
      "outputs": [
        {
          "output_type": "stream",
          "name": "stdout",
          "text": [
            "['apple', 'Strawberry', 'grapes', 'Gauva', 'Kiwi', 'Orange']\n"
          ]
        }
      ]
    },
    {
      "cell_type": "code",
      "source": [
        "#insert items to list\n",
        "list.insert(2,'watermelon')\n",
        "print(list)"
      ],
      "metadata": {
        "colab": {
          "base_uri": "https://localhost:8080/"
        },
        "id": "GvV_eRJ_EYhF",
        "outputId": "5d3c06bd-5894-46c0-d58c-1bbc0c24b794"
      },
      "execution_count": 32,
      "outputs": [
        {
          "output_type": "stream",
          "name": "stdout",
          "text": [
            "['apple', 'Strawberry', 'watermelon', 'grapes', 'Gauva', 'Kiwi', 'Orange']\n"
          ]
        }
      ]
    },
    {
      "cell_type": "code",
      "source": [
        "#it will add the item at the end of the list\n",
        "list.append('berry')\n",
        "print(list)"
      ],
      "metadata": {
        "colab": {
          "base_uri": "https://localhost:8080/"
        },
        "id": "ClFv-r1dEj9C",
        "outputId": "9802fdb7-9d72-4db9-df9d-635b64d7df41"
      },
      "execution_count": 33,
      "outputs": [
        {
          "output_type": "stream",
          "name": "stdout",
          "text": [
            "['apple', 'Strawberry', 'watermelon', 'grapes', 'Gauva', 'Kiwi', 'Orange', 'berry']\n"
          ]
        }
      ]
    },
    {
      "cell_type": "code",
      "source": [
        "#Extend list-to append elements from another list to the current list\n",
        "run=[1,2]\n",
        "run1=(1,2,3)\n",
        "#list.extend(run)\n",
        "list.extend(run1)\n",
        "print(list)"
      ],
      "metadata": {
        "colab": {
          "base_uri": "https://localhost:8080/"
        },
        "id": "c6QkmGGHE3ri",
        "outputId": "9ec26ad1-3e25-4a03-f2ae-87dbe8fb1bc3"
      },
      "execution_count": 35,
      "outputs": [
        {
          "output_type": "stream",
          "name": "stdout",
          "text": [
            "['apple', 'Strawberry', 'watermelon', 'grapes', 'Gauva', 'Kiwi', 'Orange', 'berry', 1, 2, 1, 2, 3]\n"
          ]
        }
      ]
    },
    {
      "cell_type": "code",
      "source": [
        "#Remove item from List\n",
        "\n",
        "list.remove('grapes')\n",
        "print(list)"
      ],
      "metadata": {
        "colab": {
          "base_uri": "https://localhost:8080/"
        },
        "id": "eOOAM_jLFPSg",
        "outputId": "c48d278a-39ae-4fb0-90ec-367c146f0569"
      },
      "execution_count": 36,
      "outputs": [
        {
          "output_type": "stream",
          "name": "stdout",
          "text": [
            "['apple', 'Strawberry', 'watermelon', 'Gauva', 'Kiwi', 'Orange', 'berry', 1, 2, 1, 2, 3]\n"
          ]
        }
      ]
    },
    {
      "cell_type": "code",
      "source": [
        "#this will pop out the specific index element\n",
        "list.pop(2)\n",
        "print(list)"
      ],
      "metadata": {
        "colab": {
          "base_uri": "https://localhost:8080/"
        },
        "id": "p-BmEZI7FrTO",
        "outputId": "ea31612e-3181-4e5f-bc41-3de9d6025c0b"
      },
      "execution_count": 37,
      "outputs": [
        {
          "output_type": "stream",
          "name": "stdout",
          "text": [
            "['apple', 'Strawberry', 'Gauva', 'Kiwi', 'Orange', 'berry', 1, 2, 1, 2, 3]\n"
          ]
        }
      ]
    },
    {
      "cell_type": "code",
      "source": [
        "#it will pop the last element\n",
        "list.pop()\n",
        "print(list)"
      ],
      "metadata": {
        "colab": {
          "base_uri": "https://localhost:8080/"
        },
        "id": "D2h4DckKFx9E",
        "outputId": "be100af7-d4eb-4f87-ff0b-13741f006c99"
      },
      "execution_count": 39,
      "outputs": [
        {
          "output_type": "stream",
          "name": "stdout",
          "text": [
            "['apple', 'Strawberry', 'Gauva', 'Kiwi', 'Orange', 'berry', 1, 2, 1]\n"
          ]
        }
      ]
    },
    {
      "cell_type": "code",
      "source": [
        "#it clears all the items and gives empty list\n",
        "list.clear()\n",
        "print(list)"
      ],
      "metadata": {
        "colab": {
          "base_uri": "https://localhost:8080/"
        },
        "id": "RX6m89miF3yV",
        "outputId": "7ff0b87f-a01e-415b-9725-84f61ed60593"
      },
      "execution_count": 40,
      "outputs": [
        {
          "output_type": "stream",
          "name": "stdout",
          "text": [
            "[]\n"
          ]
        }
      ]
    },
    {
      "cell_type": "code",
      "source": [
        "del list\n",
        "print(list)"
      ],
      "metadata": {
        "colab": {
          "base_uri": "https://localhost:8080/",
          "height": 158
        },
        "id": "d0FK1anvGEaT",
        "outputId": "5d53e8c4-c0cc-4cd4-c76e-3863d6a30330"
      },
      "execution_count": 43,
      "outputs": [
        {
          "output_type": "error",
          "ename": "NameError",
          "evalue": "name 'list' is not defined",
          "traceback": [
            "\u001b[0;31m---------------------------------------------------------------------------\u001b[0m",
            "\u001b[0;31mNameError\u001b[0m                                 Traceback (most recent call last)",
            "\u001b[0;32m<ipython-input-43-75878640>\u001b[0m in \u001b[0;36m<cell line: 0>\u001b[0;34m()\u001b[0m\n\u001b[0;32m----> 1\u001b[0;31m \u001b[0;32mdel\u001b[0m \u001b[0mlist\u001b[0m\u001b[0;34m\u001b[0m\u001b[0;34m\u001b[0m\u001b[0m\n\u001b[0m\u001b[1;32m      2\u001b[0m \u001b[0mprint\u001b[0m\u001b[0;34m(\u001b[0m\u001b[0mlist\u001b[0m\u001b[0;34m)\u001b[0m\u001b[0;34m\u001b[0m\u001b[0;34m\u001b[0m\u001b[0m\n",
            "\u001b[0;31mNameError\u001b[0m: name 'list' is not defined"
          ]
        }
      ]
    },
    {
      "cell_type": "code",
      "source": [],
      "metadata": {
        "id": "JFs91wI5GL_O"
      },
      "execution_count": null,
      "outputs": []
    }
  ]
}