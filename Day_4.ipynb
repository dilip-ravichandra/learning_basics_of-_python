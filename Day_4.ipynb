{
  "nbformat": 4,
  "nbformat_minor": 0,
  "metadata": {
    "colab": {
      "provenance": []
    },
    "kernelspec": {
      "name": "python3",
      "display_name": "Python 3"
    },
    "language_info": {
      "name": "python"
    }
  },
  "cells": [
    {
      "cell_type": "code",
      "execution_count": 1,
      "metadata": {
        "colab": {
          "base_uri": "https://localhost:8080/"
        },
        "id": "rOHWTriyF8E5",
        "outputId": "0c601d61-6976-420b-cc9a-7dfba01e2cb7"
      },
      "outputs": [
        {
          "output_type": "stream",
          "name": "stdout",
          "text": [
            "['apple', 'Orange', 'Mango']\n"
          ]
        }
      ],
      "source": [
        "#List Comprehensions-offers a short syntax when you want to create a new list based on the values of exisiting lists\n",
        "\n",
        "#normal form\n",
        "fruits=['apple','Orange','Mango','kiwi']\n",
        "newlist=[]\n",
        "for x in fruits:\n",
        "  if 'a' in x:\n",
        "    newlist.append(x)\n",
        "print(newlist)"
      ]
    },
    {
      "cell_type": "code",
      "source": [
        "#LC form\n",
        "fruits=['apple','Orange','Mango','kiwi','Pine']\n",
        "new=[x for x in fruits if 'i' in x]\n",
        "print(new)"
      ],
      "metadata": {
        "colab": {
          "base_uri": "https://localhost:8080/"
        },
        "id": "Vjlu96G8HFUh",
        "outputId": "98cd7233-dac7-4ccd-ec27-acee97ef22fd"
      },
      "execution_count": 3,
      "outputs": [
        {
          "output_type": "stream",
          "name": "stdout",
          "text": [
            "['kiwi', 'Pine']\n"
          ]
        }
      ]
    },
    {
      "cell_type": "code",
      "source": [
        "new=[x.upper() for x in fruits]\n",
        "print(new)"
      ],
      "metadata": {
        "colab": {
          "base_uri": "https://localhost:8080/"
        },
        "id": "M1JEP-SMHiV-",
        "outputId": "085221a1-ce54-423a-8bf1-1da606db407a"
      },
      "execution_count": 4,
      "outputs": [
        {
          "output_type": "stream",
          "name": "stdout",
          "text": [
            "['APPLE', 'ORANGE', 'MANGO', 'KIWI', 'PINE']\n"
          ]
        }
      ]
    },
    {
      "cell_type": "markdown",
      "source": [
        "# **Sort List**"
      ],
      "metadata": {
        "id": "91f1F2N9Hz_1"
      }
    },
    {
      "cell_type": "code",
      "source": [
        "list=['navya','rahul','kavya']\n",
        "list.sort()\n",
        "print(list)"
      ],
      "metadata": {
        "colab": {
          "base_uri": "https://localhost:8080/"
        },
        "id": "o6RILU5rHwAm",
        "outputId": "42640408-4c81-4aef-902c-3d0ee2666db4"
      },
      "execution_count": 6,
      "outputs": [
        {
          "output_type": "stream",
          "name": "stdout",
          "text": [
            "['kavya', 'navya', 'rahul']\n"
          ]
        }
      ]
    },
    {
      "cell_type": "code",
      "source": [
        "num=[18,23,9,2,100,50,12]\n",
        "num.sort()  #ascending to descending\n",
        "print(num)"
      ],
      "metadata": {
        "colab": {
          "base_uri": "https://localhost:8080/"
        },
        "id": "b2gnZVRWIEiI",
        "outputId": "c4cdf2a4-3a34-429a-c9e5-e672f1493669"
      },
      "execution_count": 7,
      "outputs": [
        {
          "output_type": "stream",
          "name": "stdout",
          "text": [
            "[2, 9, 12, 18, 23, 50, 100]\n"
          ]
        }
      ]
    },
    {
      "cell_type": "code",
      "source": [
        "num.sort(reverse=True)  #desc to asc\n",
        "print(num)"
      ],
      "metadata": {
        "colab": {
          "base_uri": "https://localhost:8080/"
        },
        "id": "WDGyHGu0IXLP",
        "outputId": "3f62fdbc-0c54-4fde-af43-4a2b0bd7b120"
      },
      "execution_count": 8,
      "outputs": [
        {
          "output_type": "stream",
          "name": "stdout",
          "text": [
            "[100, 50, 23, 18, 12, 9, 2]\n"
          ]
        }
      ]
    },
    {
      "cell_type": "markdown",
      "source": [
        "# **Copy List**"
      ],
      "metadata": {
        "id": "VhiiX7wmI05j"
      }
    },
    {
      "cell_type": "code",
      "source": [
        "#copy function\n",
        "a=['a','b','c','d']\n",
        "b=a.copy()\n",
        "print(b)"
      ],
      "metadata": {
        "colab": {
          "base_uri": "https://localhost:8080/"
        },
        "id": "XkgLkyhQIex3",
        "outputId": "8961e92f-9ff1-4eb3-82f3-045574f0f762"
      },
      "execution_count": 9,
      "outputs": [
        {
          "output_type": "stream",
          "name": "stdout",
          "text": [
            "['a', 'b', 'c', 'd']\n"
          ]
        }
      ]
    },
    {
      "cell_type": "code",
      "source": [
        "#list() method\n",
        "new=list(a)\n",
        "print(new)"
      ],
      "metadata": {
        "colab": {
          "base_uri": "https://localhost:8080/",
          "height": 176
        },
        "id": "EyNu2YFIJG6t",
        "outputId": "e37d9df4-784a-4a6d-d90a-f7cacfe33e67"
      },
      "execution_count": 10,
      "outputs": [
        {
          "output_type": "error",
          "ename": "TypeError",
          "evalue": "'list' object is not callable",
          "traceback": [
            "\u001b[0;31m---------------------------------------------------------------------------\u001b[0m",
            "\u001b[0;31mTypeError\u001b[0m                                 Traceback (most recent call last)",
            "\u001b[0;32m/tmp/ipython-input-10-3112661925.py\u001b[0m in \u001b[0;36m<cell line: 0>\u001b[0;34m()\u001b[0m\n\u001b[1;32m      1\u001b[0m \u001b[0;31m#list() method\u001b[0m\u001b[0;34m\u001b[0m\u001b[0;34m\u001b[0m\u001b[0m\n\u001b[0;32m----> 2\u001b[0;31m \u001b[0mnew\u001b[0m\u001b[0;34m=\u001b[0m\u001b[0mlist\u001b[0m\u001b[0;34m(\u001b[0m\u001b[0ma\u001b[0m\u001b[0;34m)\u001b[0m\u001b[0;34m\u001b[0m\u001b[0;34m\u001b[0m\u001b[0m\n\u001b[0m\u001b[1;32m      3\u001b[0m \u001b[0mprint\u001b[0m\u001b[0;34m(\u001b[0m\u001b[0mnew\u001b[0m\u001b[0;34m)\u001b[0m\u001b[0;34m\u001b[0m\u001b[0;34m\u001b[0m\u001b[0m\n",
            "\u001b[0;31mTypeError\u001b[0m: 'list' object is not callable"
          ]
        }
      ]
    },
    {
      "cell_type": "code",
      "source": [
        "#using slice operator\n",
        "c=a[:]\n",
        "print(c)"
      ],
      "metadata": {
        "colab": {
          "base_uri": "https://localhost:8080/"
        },
        "id": "yYnYoAf2JUIo",
        "outputId": "acea0917-1e3f-481c-cfc9-9c9ef45d1a4c"
      },
      "execution_count": 11,
      "outputs": [
        {
          "output_type": "stream",
          "name": "stdout",
          "text": [
            "['a', 'b', 'c', 'd']\n"
          ]
        }
      ]
    },
    {
      "cell_type": "markdown",
      "source": [
        "# **List Joins**"
      ],
      "metadata": {
        "id": "igSggYuVJz6j"
      }
    },
    {
      "cell_type": "code",
      "source": [
        "#using '+' operator\n",
        "\n",
        "a=[10,20,30]\n",
        "b=[40,50,60]\n",
        "\n",
        "c=a+b\n",
        "print(c)"
      ],
      "metadata": {
        "colab": {
          "base_uri": "https://localhost:8080/"
        },
        "id": "txqAusOmJwaS",
        "outputId": "b65eb0fb-027d-4706-f940-7fdf24dc7879"
      },
      "execution_count": 12,
      "outputs": [
        {
          "output_type": "stream",
          "name": "stdout",
          "text": [
            "[10, 20, 30, 40, 50, 60]\n"
          ]
        }
      ]
    },
    {
      "cell_type": "code",
      "source": [
        "new=['a','b','c']\n",
        "for x in new:\n",
        "  b.append(x)\n",
        "print(b)"
      ],
      "metadata": {
        "colab": {
          "base_uri": "https://localhost:8080/"
        },
        "id": "YlQ2S95yKI7P",
        "outputId": "caefbffc-fe09-4252-d961-bdc8178c1309"
      },
      "execution_count": 13,
      "outputs": [
        {
          "output_type": "stream",
          "name": "stdout",
          "text": [
            "[40, 50, 60, 'a', 'b', 'c']\n"
          ]
        }
      ]
    },
    {
      "cell_type": "code",
      "source": [
        "a.extend(new)\n",
        "print(a)"
      ],
      "metadata": {
        "colab": {
          "base_uri": "https://localhost:8080/"
        },
        "id": "oGE8rfzqKYhk",
        "outputId": "dc567c7d-838d-4a21-c9a3-0c8f96a715e1"
      },
      "execution_count": 14,
      "outputs": [
        {
          "output_type": "stream",
          "name": "stdout",
          "text": [
            "[10, 20, 30, 'a', 'b', 'c']\n"
          ]
        }
      ]
    },
    {
      "cell_type": "markdown",
      "source": [
        "# **Tuples - is a collection which is ordered and unchangeable**\n",
        "# **tuples are writtn with round brackets**"
      ],
      "metadata": {
        "id": "zflDKQwTKyqw"
      }
    },
    {
      "cell_type": "code",
      "source": [
        "new=('kia','ford','bmw','kia','Audi','Thar','Ertiga','Innova') #ordered, allows duplicates\n",
        "print(new)\n",
        "print(type(new))"
      ],
      "metadata": {
        "colab": {
          "base_uri": "https://localhost:8080/"
        },
        "id": "tEYWO2J3KgFN",
        "outputId": "56e28689-73d4-46eb-d8cc-086bb5933e4b"
      },
      "execution_count": 22,
      "outputs": [
        {
          "output_type": "stream",
          "name": "stdout",
          "text": [
            "('kia', 'ford', 'bmw', 'kia', 'Audi', 'Thar', 'Ertiga', 'Innova')\n",
            "<class 'tuple'>\n"
          ]
        }
      ]
    },
    {
      "cell_type": "code",
      "source": [
        "#difference between string and tuple\n",
        "a=('hello')\n",
        "b=('hello',)\n",
        "print(a)\n",
        "print(type(a))\n",
        "print()\n",
        "print(b)\n",
        "print(type(b))"
      ],
      "metadata": {
        "colab": {
          "base_uri": "https://localhost:8080/"
        },
        "id": "iXwg8TCxLRFw",
        "outputId": "0957a3cd-f3ea-4c4b-d12d-b124d69d2222"
      },
      "execution_count": 16,
      "outputs": [
        {
          "output_type": "stream",
          "name": "stdout",
          "text": [
            "hello\n",
            "<class 'str'>\n",
            "\n",
            "('hello',)\n",
            "<class 'tuple'>\n"
          ]
        }
      ]
    },
    {
      "cell_type": "code",
      "source": [
        "print(len(new))"
      ],
      "metadata": {
        "colab": {
          "base_uri": "https://localhost:8080/"
        },
        "id": "3Sbect9KLmYq",
        "outputId": "dbb1e197-c945-495e-b045-1a038624528f"
      },
      "execution_count": 18,
      "outputs": [
        {
          "output_type": "stream",
          "name": "stdout",
          "text": [
            "4\n"
          ]
        }
      ]
    },
    {
      "cell_type": "code",
      "source": [
        "#tuple constructor\n",
        "run=tuple(('a','b',12,'c'))\n",
        "print(run)\n",
        "print(type(run))"
      ],
      "metadata": {
        "colab": {
          "base_uri": "https://localhost:8080/"
        },
        "id": "8xtIFaLEL-Sk",
        "outputId": "49c8f80d-7102-4aa8-862e-6f2304b9aa13"
      },
      "execution_count": 19,
      "outputs": [
        {
          "output_type": "stream",
          "name": "stdout",
          "text": [
            "('a', 'b', 12, 'c')\n",
            "<class 'tuple'>\n"
          ]
        }
      ]
    },
    {
      "cell_type": "code",
      "source": [
        "#Accessing the tuple\n",
        "\n",
        "print(new[0])"
      ],
      "metadata": {
        "colab": {
          "base_uri": "https://localhost:8080/"
        },
        "id": "0qnSz-lkMLVV",
        "outputId": "b33bc400-a74b-4d09-94c2-db92b8a1ab81"
      },
      "execution_count": 21,
      "outputs": [
        {
          "output_type": "stream",
          "name": "stdout",
          "text": [
            "kia\n"
          ]
        }
      ]
    },
    {
      "cell_type": "code",
      "source": [
        "print(new[2:5])\n",
        "print(new[:6])\n",
        "print(new[1:])\n",
        "print(new[-5:-1])\n"
      ],
      "metadata": {
        "colab": {
          "base_uri": "https://localhost:8080/"
        },
        "id": "g_2QEAu7MUdU",
        "outputId": "4e50aa4a-d575-48d7-a9b3-9fba82950bd4"
      },
      "execution_count": 23,
      "outputs": [
        {
          "output_type": "stream",
          "name": "stdout",
          "text": [
            "('bmw', 'kia', 'Audi')\n",
            "('kia', 'ford', 'bmw', 'kia', 'Audi', 'Thar')\n",
            "('ford', 'bmw', 'kia', 'Audi', 'Thar', 'Ertiga', 'Innova')\n",
            "('kia', 'Audi', 'Thar', 'Ertiga')\n"
          ]
        }
      ]
    },
    {
      "cell_type": "markdown",
      "source": [
        "# **Update Tuple**"
      ],
      "metadata": {
        "id": "H7Fr6Rm4M-3H"
      }
    },
    {
      "cell_type": "code",
      "source": [
        "x=('appolo','Narayana','Jayadev')\n",
        "y=list(x)\n",
        "y[1]='people tree'\n",
        "x=tuple(y)\n",
        "print(x)"
      ],
      "metadata": {
        "id": "qd3wzesSM06b"
      },
      "execution_count": 24,
      "outputs": []
    },
    {
      "cell_type": "code",
      "source": [],
      "metadata": {
        "id": "XuBhKTgONrWy"
      },
      "execution_count": null,
      "outputs": []
    }
  ]
}