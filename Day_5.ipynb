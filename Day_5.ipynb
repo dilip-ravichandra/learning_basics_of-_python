{
  "nbformat": 4,
  "nbformat_minor": 0,
  "metadata": {
    "colab": {
      "provenance": []
    },
    "kernelspec": {
      "name": "python3",
      "display_name": "Python 3"
    },
    "language_info": {
      "name": "python"
    }
  },
  "cells": [
    {
      "cell_type": "code",
      "execution_count": 1,
      "metadata": {
        "id": "gVXxIIR9__GC"
      },
      "outputs": [],
      "source": [
        "#update tuple\n",
        "\n",
        "fruits=('apple','Orange','Mango')\n",
        "y=list(fruits)\n",
        "y.append('kiwi')\n",
        "fruits=tuple(y)\n",
        "print(fruits)"
      ]
    },
    {
      "cell_type": "code",
      "source": [
        "fruits=('apple','Orange','Mango')\n",
        "y=list(fruits)\n",
        "y.remove('Orange')\n",
        "fruits=tuple(y)\n",
        "print(fruits)"
      ],
      "metadata": {
        "id": "iV5ef3AWA36o"
      },
      "execution_count": null,
      "outputs": []
    },
    {
      "cell_type": "code",
      "source": [
        "del fruits\n",
        "print(fruits)"
      ],
      "metadata": {
        "colab": {
          "base_uri": "https://localhost:8080/",
          "height": 158
        },
        "id": "aX5ILZ4YBWNA",
        "outputId": "445a85cc-b2ca-407a-bcc9-d222a7d87d51"
      },
      "execution_count": 2,
      "outputs": [
        {
          "output_type": "error",
          "ename": "NameError",
          "evalue": "name 'fruits' is not defined",
          "traceback": [
            "\u001b[0;31m---------------------------------------------------------------------------\u001b[0m",
            "\u001b[0;31mNameError\u001b[0m                                 Traceback (most recent call last)",
            "\u001b[0;32m/tmp/ipython-input-2-753144438.py\u001b[0m in \u001b[0;36m<cell line: 0>\u001b[0;34m()\u001b[0m\n\u001b[1;32m      1\u001b[0m \u001b[0;32mdel\u001b[0m \u001b[0mfruits\u001b[0m\u001b[0;34m\u001b[0m\u001b[0;34m\u001b[0m\u001b[0m\n\u001b[0;32m----> 2\u001b[0;31m \u001b[0mprint\u001b[0m\u001b[0;34m(\u001b[0m\u001b[0mfruits\u001b[0m\u001b[0;34m)\u001b[0m\u001b[0;34m\u001b[0m\u001b[0;34m\u001b[0m\u001b[0m\n\u001b[0m",
            "\u001b[0;31mNameError\u001b[0m: name 'fruits' is not defined"
          ]
        }
      ]
    },
    {
      "cell_type": "code",
      "source": [
        "#Unpacking\n",
        "\n",
        "fruits=('apple','banana','cherry','Dragonfruit')\n",
        "(green,yellow,red,pink)=fruits\n",
        "print(green)\n",
        "print(yellow)\n",
        "print(red)\n",
        "print(pink)"
      ],
      "metadata": {
        "colab": {
          "base_uri": "https://localhost:8080/"
        },
        "id": "I_Ey8EW6BZj_",
        "outputId": "8913d04d-0f05-413e-a4fd-8b1b3e9e146d"
      },
      "execution_count": 3,
      "outputs": [
        {
          "output_type": "stream",
          "name": "stdout",
          "text": [
            "apple\n",
            "banana\n",
            "cherry\n",
            "Dragonfruit\n"
          ]
        }
      ]
    },
    {
      "cell_type": "code",
      "source": [
        "fruits=('apple','banana','cherry','Dragonfruit')\n",
        "(green,yellow,*red)=fruits\n",
        "print(green)\n",
        "print(yellow)\n",
        "print(red)\n"
      ],
      "metadata": {
        "colab": {
          "base_uri": "https://localhost:8080/"
        },
        "id": "eW4BmrmdB4PO",
        "outputId": "fa7d3bba-6709-4059-db2d-ef3a10b8afb7"
      },
      "execution_count": 4,
      "outputs": [
        {
          "output_type": "stream",
          "name": "stdout",
          "text": [
            "apple\n",
            "banana\n",
            "['cherry', 'Dragonfruit']\n"
          ]
        }
      ]
    },
    {
      "cell_type": "code",
      "source": [
        "#joining of tuples\n",
        "\n",
        "a=('a','b')\n",
        "b=(1,2,3)\n",
        "c=[10,20,30]\n",
        "print(a+b) #concate\n",
        "#print(a+c)\n",
        "print(a*3) #multiply"
      ],
      "metadata": {
        "colab": {
          "base_uri": "https://localhost:8080/"
        },
        "id": "A6cL2sYxCCov",
        "outputId": "a07aeed2-756a-441a-94b5-47bee27f8e83"
      },
      "execution_count": 8,
      "outputs": [
        {
          "output_type": "stream",
          "name": "stdout",
          "text": [
            "('a', 'b', 1, 2, 3)\n",
            "('a', 'b', 'a', 'b', 'a', 'b')\n"
          ]
        }
      ]
    },
    {
      "cell_type": "markdown",
      "source": [
        "# **SETS**\n",
        "sets are used to store multiple items in single variable\n",
        "or\n",
        "sets is a collection of items which is **unorderd, unchangeable and unindexed** enclosed with flower brackets"
      ],
      "metadata": {
        "id": "aNGoHESdDIKL"
      }
    },
    {
      "cell_type": "code",
      "source": [
        "new={'Dio','KTM','R15','Enfield'}\n",
        "print(new)\n",
        "print(type(new))"
      ],
      "metadata": {
        "colab": {
          "base_uri": "https://localhost:8080/"
        },
        "id": "H-sPzRoVCUZn",
        "outputId": "89e931eb-00b2-465d-9bde-cf16eb739538"
      },
      "execution_count": 11,
      "outputs": [
        {
          "output_type": "stream",
          "name": "stdout",
          "text": [
            "{'Dio', 'Enfield', 'R15', 'KTM'}\n",
            "<class 'set'>\n"
          ]
        }
      ]
    },
    {
      "cell_type": "code",
      "source": [
        "#duplicates are not allowed\n",
        "\n",
        "this={'a','b','a','c',0,True,1,False} #false=0, true=1\n",
        "print(this)"
      ],
      "metadata": {
        "colab": {
          "base_uri": "https://localhost:8080/"
        },
        "id": "b3e6w3JxD6T3",
        "outputId": "b0d70513-2134-4954-a09f-da01f77a7054"
      },
      "execution_count": 15,
      "outputs": [
        {
          "output_type": "stream",
          "name": "stdout",
          "text": [
            "{0, True, 'c', 'b', 'a'}\n"
          ]
        }
      ]
    },
    {
      "cell_type": "code",
      "source": [
        "#set creation using constructor\n",
        "new=set(('apple','Banana'))\n",
        "print(new)"
      ],
      "metadata": {
        "id": "35pGEXfwESZ9"
      },
      "execution_count": null,
      "outputs": []
    },
    {
      "cell_type": "code",
      "source": [
        "#Accessing of Set\n",
        "for x in new:\n",
        "  print(x)"
      ],
      "metadata": {
        "colab": {
          "base_uri": "https://localhost:8080/"
        },
        "id": "Ruu_HQjkFEec",
        "outputId": "a6a46eb6-ea43-4206-a17c-4dd210c82367"
      },
      "execution_count": 16,
      "outputs": [
        {
          "output_type": "stream",
          "name": "stdout",
          "text": [
            "Dio\n",
            "Enfield\n",
            "R15\n",
            "KTM\n"
          ]
        }
      ]
    },
    {
      "cell_type": "code",
      "source": [
        "#using membership operator\n",
        "print('R15' in new)\n",
        "print('Ninja' not in new)"
      ],
      "metadata": {
        "colab": {
          "base_uri": "https://localhost:8080/"
        },
        "id": "5yp6efaCFLD9",
        "outputId": "63fb4fbe-d7fb-4e16-f3df-3da33c971a1e"
      },
      "execution_count": 19,
      "outputs": [
        {
          "output_type": "stream",
          "name": "stdout",
          "text": [
            "True\n",
            "True\n"
          ]
        }
      ]
    },
    {
      "cell_type": "code",
      "source": [
        "#Add item to Set\n",
        "new.add('Duke')\n",
        "print(new)"
      ],
      "metadata": {
        "colab": {
          "base_uri": "https://localhost:8080/"
        },
        "id": "aWgnchINFSTp",
        "outputId": "5a27160d-cfaa-4a84-9a5b-d618421bf040"
      },
      "execution_count": 20,
      "outputs": [
        {
          "output_type": "stream",
          "name": "stdout",
          "text": [
            "{'Enfield', 'KTM', 'Dio', 'Duke', 'R15'}\n"
          ]
        }
      ]
    },
    {
      "cell_type": "code",
      "source": [
        "new1={100000,200000}\n",
        "new.update(new1)\n",
        "print(new)"
      ],
      "metadata": {
        "colab": {
          "base_uri": "https://localhost:8080/"
        },
        "id": "duW5XN6uFquG",
        "outputId": "0171da99-bd3e-4f44-c796-694a6a6c8450"
      },
      "execution_count": 21,
      "outputs": [
        {
          "output_type": "stream",
          "name": "stdout",
          "text": [
            "{100000, 200000, 'Enfield', 'KTM', 'Dio', 'Duke', 'R15'}\n"
          ]
        }
      ]
    },
    {
      "cell_type": "code",
      "source": [
        "new2=[45,100]\n",
        "new3=(50,150)\n",
        "new.update(new2)\n",
        "new.update(new3)\n",
        "print(new)"
      ],
      "metadata": {
        "colab": {
          "base_uri": "https://localhost:8080/"
        },
        "id": "98s_KFY2F6qI",
        "outputId": "711065f8-4c6c-4100-e19a-82964cbef69a"
      },
      "execution_count": 22,
      "outputs": [
        {
          "output_type": "stream",
          "name": "stdout",
          "text": [
            "{100000, 200000, 100, 'Enfield', 45, 'KTM', 'Dio', 50, 'Duke', 150, 'R15'}\n"
          ]
        }
      ]
    },
    {
      "cell_type": "code",
      "source": [
        "#Remove set items\n",
        "\n",
        "new.remove(100)\n",
        "print(new)"
      ],
      "metadata": {
        "colab": {
          "base_uri": "https://localhost:8080/"
        },
        "id": "UDhu-O1MGHQS",
        "outputId": "77565e53-cb8e-44db-8ccd-01b2e7bdb730"
      },
      "execution_count": 23,
      "outputs": [
        {
          "output_type": "stream",
          "name": "stdout",
          "text": [
            "{100000, 200000, 'Enfield', 45, 'KTM', 'Dio', 50, 'Duke', 150, 'R15'}\n"
          ]
        }
      ]
    },
    {
      "cell_type": "code",
      "source": [
        "new.discard(45)\n",
        "print(new)"
      ],
      "metadata": {
        "colab": {
          "base_uri": "https://localhost:8080/"
        },
        "id": "Y7mvnwuGGSPY",
        "outputId": "e15cfc25-ab5b-46bc-bc03-d811a1100eb9"
      },
      "execution_count": 24,
      "outputs": [
        {
          "output_type": "stream",
          "name": "stdout",
          "text": [
            "{100000, 200000, 'Enfield', 'KTM', 'Dio', 50, 'Duke', 150, 'R15'}\n"
          ]
        }
      ]
    },
    {
      "cell_type": "code",
      "source": [
        "\n",
        "new.pop()\n",
        "print(new)"
      ],
      "metadata": {
        "colab": {
          "base_uri": "https://localhost:8080/"
        },
        "id": "9Czg_DoHGYv3",
        "outputId": "e09b542b-ba05-43a3-bff2-95a6fe9c74d6"
      },
      "execution_count": 26,
      "outputs": [
        {
          "output_type": "stream",
          "name": "stdout",
          "text": [
            "{'Enfield', 'KTM', 'Dio', 50, 'Duke', 150, 'R15'}\n"
          ]
        }
      ]
    },
    {
      "cell_type": "code",
      "source": [
        "new.clear()\n",
        "print(new)"
      ],
      "metadata": {
        "colab": {
          "base_uri": "https://localhost:8080/"
        },
        "id": "q9W1ExlrGcWe",
        "outputId": "d5844c7e-7f12-4df9-8836-03e30199efcf"
      },
      "execution_count": 27,
      "outputs": [
        {
          "output_type": "stream",
          "name": "stdout",
          "text": [
            "set()\n"
          ]
        }
      ]
    },
    {
      "cell_type": "code",
      "source": [
        "del new\n",
        "print(new)"
      ],
      "metadata": {
        "colab": {
          "base_uri": "https://localhost:8080/",
          "height": 158
        },
        "id": "6ggihWr-Gio2",
        "outputId": "10c36762-22be-4ce3-9e5e-d2ff0fab7cc7"
      },
      "execution_count": 29,
      "outputs": [
        {
          "output_type": "error",
          "ename": "NameError",
          "evalue": "name 'new' is not defined",
          "traceback": [
            "\u001b[0;31m---------------------------------------------------------------------------\u001b[0m",
            "\u001b[0;31mNameError\u001b[0m                                 Traceback (most recent call last)",
            "\u001b[0;32m/tmp/ipython-input-29-3601684139.py\u001b[0m in \u001b[0;36m<cell line: 0>\u001b[0;34m()\u001b[0m\n\u001b[0;32m----> 1\u001b[0;31m \u001b[0;32mdel\u001b[0m \u001b[0mnew\u001b[0m\u001b[0;34m\u001b[0m\u001b[0;34m\u001b[0m\u001b[0m\n\u001b[0m\u001b[1;32m      2\u001b[0m \u001b[0mprint\u001b[0m\u001b[0;34m(\u001b[0m\u001b[0mnew\u001b[0m\u001b[0;34m)\u001b[0m\u001b[0;34m\u001b[0m\u001b[0;34m\u001b[0m\u001b[0m\n",
            "\u001b[0;31mNameError\u001b[0m: name 'new' is not defined"
          ]
        }
      ]
    },
    {
      "cell_type": "code",
      "source": [
        "#Joins- union,intersection,difference,symmetric_difference\n",
        "\n",
        "s1={'a','b','c'}\n",
        "s2={1,2,3,'a'}\n",
        "s3=(10,20,20)\n",
        "s4=[40,50,55]\n"
      ],
      "metadata": {
        "id": "5cGTUKy7GkTV"
      },
      "execution_count": 34,
      "outputs": []
    },
    {
      "cell_type": "code",
      "source": [
        "#union-method returns a new set with all items from both sets\n",
        "\n",
        "run=s1.union(s2)\n",
        "print(run)"
      ],
      "metadata": {
        "colab": {
          "base_uri": "https://localhost:8080/"
        },
        "id": "UfSC0-LKHsh9",
        "outputId": "ecc13004-6d72-41cf-a574-c36d17889a75"
      },
      "execution_count": 31,
      "outputs": [
        {
          "output_type": "stream",
          "name": "stdout",
          "text": [
            "{'c', 1, 2, 3, 'b', 'a'}\n"
          ]
        }
      ]
    },
    {
      "cell_type": "code",
      "source": [
        "# | operator instead if union\n",
        "\n",
        "run=s1 | s2\n",
        "print(run)"
      ],
      "metadata": {
        "colab": {
          "base_uri": "https://localhost:8080/"
        },
        "id": "j4mjiD5oH6p2",
        "outputId": "cf601b44-67a2-4492-c27d-7eb154e5a7bc"
      },
      "execution_count": 32,
      "outputs": [
        {
          "output_type": "stream",
          "name": "stdout",
          "text": [
            "{'c', 1, 2, 3, 'b', 'a'}\n"
          ]
        }
      ]
    },
    {
      "cell_type": "code",
      "source": [
        "#different type of join one is set other is tuple/list then choose the union method not | operator\n",
        "z=s1.union(s3)\n",
        "print(z)"
      ],
      "metadata": {
        "colab": {
          "base_uri": "https://localhost:8080/"
        },
        "id": "xfHWQj9xIH36",
        "outputId": "60a4ffbf-f377-4f68-bf57-938a4bfe68b5"
      },
      "execution_count": 33,
      "outputs": [
        {
          "output_type": "stream",
          "name": "stdout",
          "text": [
            "{'c', 10, 'a', 20, 'b'}\n"
          ]
        }
      ]
    },
    {
      "cell_type": "code",
      "source": [
        "run1=s1.intersection(s2)\n",
        "print(run1)"
      ],
      "metadata": {
        "colab": {
          "base_uri": "https://localhost:8080/"
        },
        "id": "-PO2rq6TIso7",
        "outputId": "d4ebaeb5-e3fd-4b8d-b6fe-bdebcd59dbc1"
      },
      "execution_count": 35,
      "outputs": [
        {
          "output_type": "stream",
          "name": "stdout",
          "text": [
            "{'a'}\n"
          ]
        }
      ]
    },
    {
      "cell_type": "code",
      "source": [
        "run1=s1 & s2\n",
        "print(run1)"
      ],
      "metadata": {
        "colab": {
          "base_uri": "https://localhost:8080/"
        },
        "id": "CHDqWDzfI9zn",
        "outputId": "73f45cd5-3d58-40b5-f7cc-c1f0ae6cc8eb"
      },
      "execution_count": 36,
      "outputs": [
        {
          "output_type": "stream",
          "name": "stdout",
          "text": [
            "{'a'}\n"
          ]
        }
      ]
    },
    {
      "cell_type": "code",
      "source": [
        "#difference\n",
        "new={'apple','banana','cherry'}\n",
        "new1={'apple','google','windows'}\n",
        "z=new1.difference(new)\n",
        "print(z)\n"
      ],
      "metadata": {
        "colab": {
          "base_uri": "https://localhost:8080/"
        },
        "id": "c8aN71bzJG17",
        "outputId": "1481b35b-f590-4a44-c17d-71aa685f2b6a"
      },
      "execution_count": 38,
      "outputs": [
        {
          "output_type": "stream",
          "name": "stdout",
          "text": [
            "{'windows', 'google'}\n"
          ]
        }
      ]
    },
    {
      "cell_type": "code",
      "source": [
        "z=new - new1\n",
        "print(z)"
      ],
      "metadata": {
        "colab": {
          "base_uri": "https://localhost:8080/"
        },
        "id": "AD-ZaCa6Jd0s",
        "outputId": "448480c5-3b53-4faf-e0aa-03322eef65dd"
      },
      "execution_count": 39,
      "outputs": [
        {
          "output_type": "stream",
          "name": "stdout",
          "text": [
            "{'banana', 'cherry'}\n"
          ]
        }
      ]
    },
    {
      "cell_type": "code",
      "source": [
        "#symmetric_difference\n",
        "a=new1.symmetric_difference(new)\n",
        "print(a)"
      ],
      "metadata": {
        "colab": {
          "base_uri": "https://localhost:8080/"
        },
        "id": "ZooFUT8bJrjZ",
        "outputId": "dfef45ee-3c49-4b91-d9f3-ddab55c2865d"
      },
      "execution_count": 40,
      "outputs": [
        {
          "output_type": "stream",
          "name": "stdout",
          "text": [
            "{'banana', 'windows', 'google', 'cherry'}\n"
          ]
        }
      ]
    },
    {
      "cell_type": "code",
      "source": [
        "b=new ^ new1\n",
        "print(b)"
      ],
      "metadata": {
        "colab": {
          "base_uri": "https://localhost:8080/"
        },
        "id": "IECgh_mIJ1s8",
        "outputId": "c954534a-7583-4dce-8bef-bdb60b672b1b"
      },
      "execution_count": 41,
      "outputs": [
        {
          "output_type": "stream",
          "name": "stdout",
          "text": [
            "{'banana', 'cherry', 'windows', 'google'}\n"
          ]
        }
      ]
    },
    {
      "cell_type": "code",
      "source": [],
      "metadata": {
        "id": "rBR_lLHUJ92G"
      },
      "execution_count": null,
      "outputs": []
    }
  ]
}