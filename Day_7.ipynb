{
  "nbformat": 4,
  "nbformat_minor": 0,
  "metadata": {
    "colab": {
      "provenance": []
    },
    "kernelspec": {
      "name": "python3",
      "display_name": "Python 3"
    },
    "language_info": {
      "name": "python"
    }
  },
  "cells": [
    {
      "cell_type": "markdown",
      "source": [
        "# **Functions and Lambda Functions**"
      ],
      "metadata": {
        "id": "qv-78F2bc28d"
      }
    },
    {
      "cell_type": "code",
      "execution_count": 1,
      "metadata": {
        "colab": {
          "base_uri": "https://localhost:8080/",
          "height": 36
        },
        "id": "irYy702Ccy5g",
        "outputId": "c823299c-dc4b-473e-b408-9764f5e659b0"
      },
      "outputs": [
        {
          "output_type": "execute_result",
          "data": {
            "text/plain": [
              "'\\nFunctions is a block of code, which only runs when it is called.\\n\\nfunction can return data as result.\\n\\nin python a func is defined by using \"def\" keyword\\n'"
            ],
            "application/vnd.google.colaboratory.intrinsic+json": {
              "type": "string"
            }
          },
          "metadata": {},
          "execution_count": 1
        }
      ],
      "source": [
        "\"\"\"\n",
        "Functions is a block of code, which only runs when it is called.\n",
        "\n",
        "function can return data as result.\n",
        "\n",
        "in python a func is defined by using \"def\" keyword\n",
        "\"\"\""
      ]
    },
    {
      "cell_type": "code",
      "source": [
        "def my_func():\n",
        "  print(\"Hello, Happy Morning\")\n",
        "my_func()"
      ],
      "metadata": {
        "colab": {
          "base_uri": "https://localhost:8080/"
        },
        "id": "52MDVdghdVZQ",
        "outputId": "82ebb45c-01f4-4bdf-f792-289a11e6b4f2"
      },
      "execution_count": 2,
      "outputs": [
        {
          "output_type": "stream",
          "name": "stdout",
          "text": [
            "Hello, Happy Morning\n"
          ]
        }
      ]
    },
    {
      "cell_type": "code",
      "source": [
        "#Arguments-information can be passed into functions as arguments.\n",
        "\"\"\"\n",
        "Arguments are specified after the func name, inside the parantheses.add as many aruments needed seprated by comma\n",
        "\"\"\""
      ],
      "metadata": {
        "id": "Xqn8rBgVdt8r"
      },
      "execution_count": null,
      "outputs": []
    },
    {
      "cell_type": "code",
      "source": [
        "def func(fname):\n",
        "  print(fname + \" is from RV College\")\n",
        "func(\"Ajay\")\n",
        "func(\"tanushree\")\n",
        "func(\"Manoj\")"
      ],
      "metadata": {
        "colab": {
          "base_uri": "https://localhost:8080/"
        },
        "id": "zreEG6M-eJgG",
        "outputId": "bca8bd3b-6265-40eb-81e7-bac25d39e489"
      },
      "execution_count": 3,
      "outputs": [
        {
          "output_type": "stream",
          "name": "stdout",
          "text": [
            "Ajay is from RV College\n",
            "tanushree is from RV College\n",
            "Manoj is from RV College\n"
          ]
        }
      ]
    },
    {
      "cell_type": "code",
      "source": [
        "#Paramters and Arguments\n",
        "\"\"\"\n",
        "A paramaeter is a variable listed inside the brackets in the func defination.\n",
        "\n",
        "An Argument is a value that is sent to the func when it is called.\n",
        "\"\"\""
      ],
      "metadata": {
        "id": "Xt_f5KAMed77"
      },
      "execution_count": null,
      "outputs": []
    },
    {
      "cell_type": "code",
      "source": [
        "def func(fname,lname):\n",
        "  print(fname + \" \"+ lname +  \" is from RV College\")\n",
        "  #print(fname+\" \"+ fname +\" \" \"are from Bengaluru\")\n",
        "func(\"Ajay\",\"Yadav\")\n",
        "func(\"Rahul\",\"Puneeth\")"
      ],
      "metadata": {
        "colab": {
          "base_uri": "https://localhost:8080/"
        },
        "id": "RtEQH6nHe7TJ",
        "outputId": "ff97e81e-2c82-43ad-d48e-2471aeb5df37"
      },
      "execution_count": 9,
      "outputs": [
        {
          "output_type": "stream",
          "name": "stdout",
          "text": [
            "Ajay Yadav is from RV College\n",
            "Rahul Puneeth is from RV College\n"
          ]
        }
      ]
    },
    {
      "cell_type": "code",
      "source": [
        "#Arbitary Arguments- if you do not know how many arguments that will be passed into a function add a * before the parameter name in the func defination\n",
        "\n",
        "def func(*stud):\n",
        "  print(\"The Class Topper is \" + stud[2])\n",
        "  print(\"The Second Topper is \"+stud[4])\n",
        "func(\"Rahul\",\"Manoj\",\"Rekha\",\"Kavya\",\"Dhanush\",\"Amit\")"
      ],
      "metadata": {
        "colab": {
          "base_uri": "https://localhost:8080/"
        },
        "id": "LiLuJq5QfN07",
        "outputId": "f5f5d39c-a65b-493c-e0eb-e50644ae5ea7"
      },
      "execution_count": 10,
      "outputs": [
        {
          "output_type": "stream",
          "name": "stdout",
          "text": [
            "The Class Topper is Rekha\n",
            "The Second Topper is Dhanush\n"
          ]
        }
      ]
    },
    {
      "cell_type": "code",
      "source": [
        "#Default Parameter Value\n",
        "def myfunc(college=\"RV\"):\n",
        "  print(\"I am From \"+college)\n",
        "\n",
        "myfunc(\"Reva\")\n",
        "myfunc()\n",
        "myfunc(\"P.E.S\")\n",
        "myfunc()\n",
        "myfunc(\"Acharya\")\n"
      ],
      "metadata": {
        "colab": {
          "base_uri": "https://localhost:8080/"
        },
        "id": "eb0L9plSglv3",
        "outputId": "717f724d-da17-44a1-a8d9-e499aa4551f2"
      },
      "execution_count": 11,
      "outputs": [
        {
          "output_type": "stream",
          "name": "stdout",
          "text": [
            "I am From Reva\n",
            "I am From RV\n",
            "I am From P.E.S\n",
            "I am From RV\n",
            "I am From Acharya\n"
          ]
        }
      ]
    },
    {
      "cell_type": "code",
      "source": [
        "#passing the list as argument\n",
        "def myfunc(food):\n",
        "  for x in food:\n",
        "    print(\"We have \"+x)\n",
        "breakfast=[\"Idly\",\"Poha\",\"Upma\",\"Dosa\",\"chapathi\",\"Poori\"]\n",
        "myfunc(breakfast)\n",
        "print(\"what do you like to order?\")"
      ],
      "metadata": {
        "colab": {
          "base_uri": "https://localhost:8080/"
        },
        "id": "rnLwtFGnhSuF",
        "outputId": "819f14f2-4dc2-4b3b-daf1-6baecba39338"
      },
      "execution_count": 18,
      "outputs": [
        {
          "output_type": "stream",
          "name": "stdout",
          "text": [
            "We have Idly\n",
            "We have Poha\n",
            "We have Upma\n",
            "We have Dosa\n",
            "We have chapathi\n",
            "We have Poori\n",
            "what do you like to order?\n"
          ]
        }
      ]
    },
    {
      "cell_type": "code",
      "source": [
        "#Return Statment\n",
        "def my_func(x):\n",
        "  return 5*x\n",
        "print(my_func(10))\n",
        "print(my_func(22))\n",
        "print(my_func(14))\n",
        "print(my_func(8))"
      ],
      "metadata": {
        "colab": {
          "base_uri": "https://localhost:8080/"
        },
        "id": "hLhy2jo5h0BM",
        "outputId": "89a4ddf9-efe2-4a58-fa5d-4367cc4ce523"
      },
      "execution_count": 19,
      "outputs": [
        {
          "output_type": "stream",
          "name": "stdout",
          "text": [
            "50\n",
            "110\n",
            "70\n",
            "40\n"
          ]
        }
      ]
    },
    {
      "cell_type": "markdown",
      "source": [
        "Lambda Functions - is a small anonymous functions\n",
        "\n",
        "lambda functions can take any number of arguments, but can only have one expression.\n",
        "\n",
        "**syntax:**\n",
        "\n",
        "lambda arguments:expression"
      ],
      "metadata": {
        "id": "JkEyHOO9iu5G"
      }
    },
    {
      "cell_type": "code",
      "source": [
        "x=lambda a:a-50\n",
        "print(x(2))"
      ],
      "metadata": {
        "colab": {
          "base_uri": "https://localhost:8080/"
        },
        "id": "KNacaGofiilq",
        "outputId": "dd006913-96e5-40c6-f09b-65344ba8b107"
      },
      "execution_count": 22,
      "outputs": [
        {
          "output_type": "stream",
          "name": "stdout",
          "text": [
            "-48\n"
          ]
        }
      ]
    },
    {
      "cell_type": "code",
      "source": [
        "x=lambda a,b,c,d:(a+b,c+d)\n",
        "y=lambda a,b,c,d:(a+b*c+d)\n",
        "print(x(2,3,4,5))\n",
        "print(y(2,4,4,5))"
      ],
      "metadata": {
        "colab": {
          "base_uri": "https://localhost:8080/"
        },
        "id": "SjJCZyYZjU-G",
        "outputId": "85e3fa27-af4d-488f-e5b5-f40911f15298"
      },
      "execution_count": 27,
      "outputs": [
        {
          "output_type": "stream",
          "name": "stdout",
          "text": [
            "(5, 9)\n",
            "23\n"
          ]
        }
      ]
    },
    {
      "cell_type": "code",
      "source": [
        "def func(n):\n",
        "  return lambda a:a*n\n",
        "\n",
        "double=func(23)\n",
        "\n",
        "print(double(11))"
      ],
      "metadata": {
        "colab": {
          "base_uri": "https://localhost:8080/"
        },
        "id": "3Mt-oRAcjk7u",
        "outputId": "0aeb0fdb-7ddd-40ba-f63d-d96cde50c6b6"
      },
      "execution_count": 28,
      "outputs": [
        {
          "output_type": "stream",
          "name": "stdout",
          "text": [
            "253\n"
          ]
        }
      ]
    },
    {
      "cell_type": "markdown",
      "source": [
        "# **Inputs in Python**"
      ],
      "metadata": {
        "id": "xMxrrVJakSNc"
      }
    },
    {
      "cell_type": "code",
      "source": [
        "print(\"enter your name: \")\n",
        "name=input()\n",
        "print(f\"Hello, {name}\")"
      ],
      "metadata": {
        "colab": {
          "base_uri": "https://localhost:8080/"
        },
        "id": "il0dKlzrkNL4",
        "outputId": "5a60d19b-25be-4bdf-9e32-96c47583a672"
      },
      "execution_count": 29,
      "outputs": [
        {
          "output_type": "stream",
          "name": "stdout",
          "text": [
            "enter your name: \n",
            "Navya\n",
            "Hello, Navya\n"
          ]
        }
      ]
    },
    {
      "cell_type": "code",
      "source": [
        "name=input(\"Enter the Name: \")\n",
        "print(f\"Hello, {name}\")"
      ],
      "metadata": {
        "colab": {
          "base_uri": "https://localhost:8080/"
        },
        "id": "9LsrEa7Fki9S",
        "outputId": "f36dbe51-adac-4c59-8383-10ca53424da6"
      },
      "execution_count": 30,
      "outputs": [
        {
          "output_type": "stream",
          "name": "stdout",
          "text": [
            "Enter the Name: Ajay\n",
            "Hello, Ajay\n"
          ]
        }
      ]
    },
    {
      "cell_type": "code",
      "source": [
        "import math\n",
        "x=input(\"Enter the Number: \")\n",
        "y=math.sqrt(float(x))\n",
        "print(f\"the square root of {x} is {y}\")"
      ],
      "metadata": {
        "colab": {
          "base_uri": "https://localhost:8080/"
        },
        "id": "gEJbEgasku3t",
        "outputId": "2c99d374-fd4c-4555-fb34-58f6fd1d7c09"
      },
      "execution_count": 31,
      "outputs": [
        {
          "output_type": "stream",
          "name": "stdout",
          "text": [
            "Enter the Number: 23\n",
            "the square root of 23 is 4.795831523312719\n"
          ]
        }
      ]
    },
    {
      "cell_type": "code",
      "source": [],
      "metadata": {
        "id": "iY33GTrslK50"
      },
      "execution_count": null,
      "outputs": []
    }
  ]
}